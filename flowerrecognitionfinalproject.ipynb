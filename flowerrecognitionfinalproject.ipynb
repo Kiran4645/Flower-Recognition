{
  "nbformat": 4,
  "nbformat_minor": 0,
  "metadata": {
    "colab": {
      "name": "flowerrecognitionfinalproject.ipynb",
      "provenance": [],
      "collapsed_sections": []
    },
    "kernelspec": {
      "name": "python3",
      "display_name": "Python 3"
    },
    "language_info": {
      "name": "python"
    },
    "accelerator": "GPU"
  },
  "cells": [
    {
      "cell_type": "code",
      "metadata": {
        "colab": {
          "base_uri": "https://localhost:8080/"
        },
        "id": "QH716GxAST6C",
        "outputId": "b159a3c3-d1d6-4df7-c4bd-9a05766f8750"
      },
      "source": [
        "from google.colab import drive\n",
        "drive.mount('/content/drive')"
      ],
      "execution_count": null,
      "outputs": [
        {
          "output_type": "stream",
          "name": "stdout",
          "text": [
            "Mounted at /content/drive\n"
          ]
        }
      ]
    },
    {
      "cell_type": "code",
      "metadata": {
        "id": "57noBgoVTBZg"
      },
      "source": [
        "#Importing Libraries\n",
        "import tensorflow as tf\n",
        "import os\n",
        "import numpy as np\n",
        "from keras_preprocessing.image import ImageDataGenerator\n",
        "import matplotlib.pyplot as plt"
      ],
      "execution_count": null,
      "outputs": []
    },
    {
      "cell_type": "code",
      "metadata": {
        "id": "lFcRH5k3TE0P"
      },
      "source": [
        "Training_Path = os.path.join('/content/drive/MyDrive/flowerss/training') "
      ],
      "execution_count": null,
      "outputs": []
    },
    {
      "cell_type": "code",
      "metadata": {
        "id": "X_UvuIcjTMc-"
      },
      "source": [
        "Testing_Path = os.path.join('/content/drive/MyDrive/flowerss/testing') "
      ],
      "execution_count": null,
      "outputs": []
    },
    {
      "cell_type": "code",
      "metadata": {
        "id": "D_8qPS0PTSP8"
      },
      "source": [
        "Image_Size = 256"
      ],
      "execution_count": null,
      "outputs": []
    },
    {
      "cell_type": "code",
      "metadata": {
        "id": "CEeHx7A3TUtf"
      },
      "source": [
        "#Batch Size\n",
        "BATCH_SIZE = 32 "
      ],
      "execution_count": null,
      "outputs": []
    },
    {
      "cell_type": "code",
      "metadata": {
        "id": "F3YXSDV2TX6e"
      },
      "source": [
        "# Data Augmentation\n",
        "Training_data = ImageDataGenerator(\n",
        "                rescale = 1./255, \n",
        "                rotation_range = 30, \n",
        "                vertical_flip=True) \n"
      ],
      "execution_count": null,
      "outputs": []
    },
    {
      "cell_type": "code",
      "metadata": {
        "id": "i8BCDzxhTbZI"
      },
      "source": [
        "Testing_data = ImageDataGenerator(\n",
        "                rescale = 1./255) # Normalizing the image"
      ],
      "execution_count": null,
      "outputs": []
    },
    {
      "cell_type": "code",
      "metadata": {
        "colab": {
          "base_uri": "https://localhost:8080/"
        },
        "id": "A9-vix6FTfrw",
        "outputId": "9dc453f6-7890-429c-c298-1f3da891e195"
      },
      "source": [
        "Train_set = Training_data.flow_from_directory(\n",
        "                Training_Path,\n",
        "                target_size=(Image_Size,Image_Size),\n",
        "                batch_size=BATCH_SIZE,\n",
        "                class_mode = 'categorical')"
      ],
      "execution_count": null,
      "outputs": [
        {
          "output_type": "stream",
          "name": "stdout",
          "text": [
            "Found 3548 images belonging to 5 classes.\n"
          ]
        }
      ]
    },
    {
      "cell_type": "code",
      "metadata": {
        "colab": {
          "base_uri": "https://localhost:8080/"
        },
        "id": "Oi0djw2ATm0q",
        "outputId": "cb65dab1-4c01-40ff-e462-e68261a97359"
      },
      "source": [
        "Test_set = Testing_data.flow_from_directory(\n",
        "                Testing_Path,\n",
        "                target_size = (Image_Size,Image_Size),\n",
        "                batch_size = BATCH_SIZE,\n",
        "                class_mode = 'categorical')"
      ],
      "execution_count": null,
      "outputs": [
        {
          "output_type": "stream",
          "name": "stdout",
          "text": [
            "Found 666 images belonging to 5 classes.\n"
          ]
        }
      ]
    },
    {
      "cell_type": "code",
      "metadata": {
        "id": "I1jM7YuBTqot"
      },
      "source": [
        "labels_values,no_of_images = np.unique(Train_set.classes,return_counts = True)\n",
        "dict(zip(Train_set.class_indices,no_of_images))\n",
        "labels = Test_set.class_indices\n",
        "labels = { v:k for k,v in labels.items() } # Flipping keys and values\n",
        "values_lbl = list(labels.values()) # Taking out only values from dictionary"
      ],
      "execution_count": null,
      "outputs": []
    },
    {
      "cell_type": "code",
      "metadata": {
        "id": "vWDsGbO8TwmD"
      },
      "source": [
        "# Defining all layers.\n",
        "dense_layer = tf.keras.layers.Dense ## Define Dense layer\n",
        "convolution = tf.keras.layers.Conv2D  ## Define convolutinal layer\n",
        "max_pooling= tf.keras.layers.MaxPooling2D ## Define max_pooling layer\n",
        "flattening = tf.keras.layers.Flatten() ## Define flattening layer\n",
        "dropout = tf.keras.layers.Dropout(0.2)  ## Define dropout layer"
      ],
      "execution_count": null,
      "outputs": []
    },
    {
      "cell_type": "code",
      "metadata": {
        "id": "2YoDUlWDT07b"
      },
      "source": [
        "# Sequential Model\n",
        "model = tf.keras.Sequential()\n",
        "# 1st layer\n",
        "model.add(convolution(16,(3,3),input_shape = (256,256,3),padding='same',activation='relu'))\n",
        "model.add(max_pooling(2,2))\n",
        "\n",
        "# 2nd layer\n",
        "model.add(convolution(16,(3,3),padding='same',activation='relu'))\n",
        "model.add(max_pooling(2,2))\n",
        "\n",
        "# 3rd layer\n",
        "model.add(convolution(32,(3,3),padding='same',activation='relu'))\n",
        "model.add(max_pooling(2,2))\n",
        "\n",
        "# 4th layer\n",
        "model.add(convolution(32,(3,3),padding='same',activation='relu'))\n",
        "model.add(max_pooling(2,2))\n",
        "\n",
        "# 5th layer\n",
        "model.add(convolution(32,(3,3),padding='same',activation='relu'))\n",
        "model.add(max_pooling(2,2))\n",
        "\n",
        "# Flatten Layerzxyuu7\n",
        "model.add(flattening)\n",
        "\n",
        "model.add(dense_layer(512,activation='relu',))\n",
        "model.add(dropout)\n",
        "model.add(dense_layer(256,activation='relu'))\n",
        "\n",
        "# Output Layer\n",
        "model.add(dense_layer(5,activation='softmax'))"
      ],
      "execution_count": null,
      "outputs": []
    },
    {
      "cell_type": "code",
      "metadata": {
        "colab": {
          "base_uri": "https://localhost:8080/"
        },
        "id": "igzn98aOT41S",
        "outputId": "4628e070-f69c-487c-cbaa-560fee1f8d8e"
      },
      "source": [
        "model.summary()"
      ],
      "execution_count": null,
      "outputs": [
        {
          "output_type": "stream",
          "name": "stdout",
          "text": [
            "Model: \"sequential\"\n",
            "_________________________________________________________________\n",
            "Layer (type)                 Output Shape              Param #   \n",
            "=================================================================\n",
            "conv2d (Conv2D)              (None, 256, 256, 16)      448       \n",
            "_________________________________________________________________\n",
            "max_pooling2d (MaxPooling2D) (None, 128, 128, 16)      0         \n",
            "_________________________________________________________________\n",
            "conv2d_1 (Conv2D)            (None, 128, 128, 16)      2320      \n",
            "_________________________________________________________________\n",
            "max_pooling2d_1 (MaxPooling2 (None, 64, 64, 16)        0         \n",
            "_________________________________________________________________\n",
            "conv2d_2 (Conv2D)            (None, 64, 64, 32)        4640      \n",
            "_________________________________________________________________\n",
            "max_pooling2d_2 (MaxPooling2 (None, 32, 32, 32)        0         \n",
            "_________________________________________________________________\n",
            "conv2d_3 (Conv2D)            (None, 32, 32, 32)        9248      \n",
            "_________________________________________________________________\n",
            "max_pooling2d_3 (MaxPooling2 (None, 16, 16, 32)        0         \n",
            "_________________________________________________________________\n",
            "conv2d_4 (Conv2D)            (None, 16, 16, 32)        9248      \n",
            "_________________________________________________________________\n",
            "max_pooling2d_4 (MaxPooling2 (None, 8, 8, 32)          0         \n",
            "_________________________________________________________________\n",
            "flatten (Flatten)            (None, 2048)              0         \n",
            "_________________________________________________________________\n",
            "dense (Dense)                (None, 512)               1049088   \n",
            "_________________________________________________________________\n",
            "dropout (Dropout)            (None, 512)               0         \n",
            "_________________________________________________________________\n",
            "dense_1 (Dense)              (None, 256)               131328    \n",
            "_________________________________________________________________\n",
            "dense_2 (Dense)              (None, 5)                 1285      \n",
            "=================================================================\n",
            "Total params: 1,207,605\n",
            "Trainable params: 1,207,605\n",
            "Non-trainable params: 0\n",
            "_________________________________________________________________\n"
          ]
        }
      ]
    },
    {
      "cell_type": "code",
      "metadata": {
        "colab": {
          "base_uri": "https://localhost:8080/"
        },
        "id": "MOmLyBVVT80C",
        "outputId": "58897395-93f3-444d-c4b2-9627f6ba21e0"
      },
      "source": [
        "# Compiling model\n",
        "model.compile(loss='categorical_crossentropy',optimizer = tf.keras.optimizers.RMSprop(lr = 0.001),metrics=['acc'] )"
      ],
      "execution_count": null,
      "outputs": [
        {
          "output_type": "stream",
          "name": "stderr",
          "text": [
            "/usr/local/lib/python3.7/dist-packages/keras/optimizer_v2/optimizer_v2.py:356: UserWarning: The `lr` argument is deprecated, use `learning_rate` instead.\n",
            "  \"The `lr` argument is deprecated, use `learning_rate` instead.\")\n"
          ]
        }
      ]
    },
    {
      "cell_type": "code",
      "metadata": {
        "colab": {
          "base_uri": "https://localhost:8080/"
        },
        "id": "I4ul89-PUA5A",
        "outputId": "61de52b9-ea65-494a-ad22-e11417d276d9"
      },
      "source": [
        "### Fitting the Model\n",
        "cnn_network = model.fit_generator(Train_set,\n",
        "                                    epochs=100,\n",
        "                                    validation_data=Test_set,\n",
        "                                    callbacks = [tf.keras.callbacks.EarlyStopping(monitor='val_loss',patience = 105)])"
      ],
      "execution_count": null,
      "outputs": [
        {
          "output_type": "stream",
          "name": "stderr",
          "text": [
            "/usr/local/lib/python3.7/dist-packages/keras/engine/training.py:1972: UserWarning: `Model.fit_generator` is deprecated and will be removed in a future version. Please use `Model.fit`, which supports generators.\n",
            "  warnings.warn('`Model.fit_generator` is deprecated and '\n"
          ]
        },
        {
          "output_type": "stream",
          "name": "stdout",
          "text": [
            "Epoch 1/100\n",
            "111/111 [==============================] - 782s 7s/step - loss: 1.3664 - acc: 0.3901 - val_loss: 1.1567 - val_acc: 0.4970\n",
            "Epoch 2/100\n",
            "111/111 [==============================] - 69s 621ms/step - loss: 1.1384 - acc: 0.5397 - val_loss: 1.3362 - val_acc: 0.4399\n",
            "Epoch 3/100\n",
            "111/111 [==============================] - 68s 616ms/step - loss: 1.0210 - acc: 0.5947 - val_loss: 1.0474 - val_acc: 0.5766\n",
            "Epoch 4/100\n",
            "111/111 [==============================] - 68s 611ms/step - loss: 0.9548 - acc: 0.6209 - val_loss: 0.9548 - val_acc: 0.6306\n",
            "Epoch 5/100\n",
            "111/111 [==============================] - 68s 611ms/step - loss: 0.9163 - acc: 0.6502 - val_loss: 0.9194 - val_acc: 0.6622\n",
            "Epoch 6/100\n",
            "111/111 [==============================] - 68s 611ms/step - loss: 0.8762 - acc: 0.6685 - val_loss: 0.9089 - val_acc: 0.6471\n",
            "Epoch 7/100\n",
            "111/111 [==============================] - 70s 628ms/step - loss: 0.8406 - acc: 0.6809 - val_loss: 0.8482 - val_acc: 0.6817\n",
            "Epoch 8/100\n",
            "111/111 [==============================] - 68s 613ms/step - loss: 0.8096 - acc: 0.6883 - val_loss: 0.9866 - val_acc: 0.6351\n",
            "Epoch 9/100\n",
            "111/111 [==============================] - 68s 616ms/step - loss: 0.7857 - acc: 0.6928 - val_loss: 0.8114 - val_acc: 0.6847\n",
            "Epoch 10/100\n",
            "111/111 [==============================] - 69s 621ms/step - loss: 0.7674 - acc: 0.7100 - val_loss: 0.9818 - val_acc: 0.6757\n",
            "Epoch 11/100\n",
            "111/111 [==============================] - 68s 616ms/step - loss: 0.7398 - acc: 0.7100 - val_loss: 0.7773 - val_acc: 0.7072\n",
            "Epoch 12/100\n",
            "111/111 [==============================] - 68s 613ms/step - loss: 0.7297 - acc: 0.7204 - val_loss: 0.9027 - val_acc: 0.6682\n",
            "Epoch 13/100\n",
            "111/111 [==============================] - 68s 616ms/step - loss: 0.7083 - acc: 0.7328 - val_loss: 0.9685 - val_acc: 0.6577\n",
            "Epoch 14/100\n",
            "111/111 [==============================] - 68s 616ms/step - loss: 0.6829 - acc: 0.7396 - val_loss: 0.7694 - val_acc: 0.7237\n",
            "Epoch 15/100\n",
            "111/111 [==============================] - 68s 614ms/step - loss: 0.6794 - acc: 0.7328 - val_loss: 0.6888 - val_acc: 0.7432\n",
            "Epoch 16/100\n",
            "111/111 [==============================] - 68s 612ms/step - loss: 0.6476 - acc: 0.7415 - val_loss: 0.9985 - val_acc: 0.6366\n",
            "Epoch 17/100\n",
            "111/111 [==============================] - 69s 617ms/step - loss: 0.6607 - acc: 0.7511 - val_loss: 0.8022 - val_acc: 0.7102\n",
            "Epoch 18/100\n",
            "111/111 [==============================] - 68s 616ms/step - loss: 0.6313 - acc: 0.7562 - val_loss: 0.7615 - val_acc: 0.7222\n",
            "Epoch 19/100\n",
            "111/111 [==============================] - 68s 615ms/step - loss: 0.6171 - acc: 0.7706 - val_loss: 0.9056 - val_acc: 0.6817\n",
            "Epoch 20/100\n",
            "111/111 [==============================] - 68s 613ms/step - loss: 0.5901 - acc: 0.7754 - val_loss: 0.8696 - val_acc: 0.6832\n",
            "Epoch 21/100\n",
            "111/111 [==============================] - 68s 617ms/step - loss: 0.5823 - acc: 0.7782 - val_loss: 0.7997 - val_acc: 0.6982\n",
            "Epoch 22/100\n",
            "111/111 [==============================] - 69s 619ms/step - loss: 0.5607 - acc: 0.7869 - val_loss: 0.8455 - val_acc: 0.7087\n",
            "Epoch 23/100\n",
            "111/111 [==============================] - 69s 617ms/step - loss: 0.5674 - acc: 0.7804 - val_loss: 1.2386 - val_acc: 0.6366\n",
            "Epoch 24/100\n",
            "111/111 [==============================] - 69s 618ms/step - loss: 0.5726 - acc: 0.7799 - val_loss: 0.7845 - val_acc: 0.7312\n",
            "Epoch 25/100\n",
            "111/111 [==============================] - 69s 617ms/step - loss: 0.5495 - acc: 0.7951 - val_loss: 0.8341 - val_acc: 0.7417\n",
            "Epoch 26/100\n",
            "111/111 [==============================] - 69s 623ms/step - loss: 0.5578 - acc: 0.7959 - val_loss: 0.7769 - val_acc: 0.7568\n",
            "Epoch 27/100\n",
            "111/111 [==============================] - 70s 634ms/step - loss: 0.5298 - acc: 0.7937 - val_loss: 0.8065 - val_acc: 0.6967\n",
            "Epoch 28/100\n",
            "111/111 [==============================] - 70s 630ms/step - loss: 0.5277 - acc: 0.7990 - val_loss: 0.7728 - val_acc: 0.7568\n",
            "Epoch 29/100\n",
            "111/111 [==============================] - 69s 625ms/step - loss: 0.4955 - acc: 0.8103 - val_loss: 0.8716 - val_acc: 0.7688\n",
            "Epoch 30/100\n",
            "111/111 [==============================] - 69s 624ms/step - loss: 0.5017 - acc: 0.8126 - val_loss: 0.8831 - val_acc: 0.7267\n",
            "Epoch 31/100\n",
            "111/111 [==============================] - 70s 634ms/step - loss: 0.5161 - acc: 0.8168 - val_loss: 0.9476 - val_acc: 0.7027\n",
            "Epoch 32/100\n",
            "111/111 [==============================] - 71s 637ms/step - loss: 0.4790 - acc: 0.8222 - val_loss: 0.8564 - val_acc: 0.7267\n",
            "Epoch 33/100\n",
            "111/111 [==============================] - 70s 628ms/step - loss: 0.4825 - acc: 0.8272 - val_loss: 0.7864 - val_acc: 0.7628\n",
            "Epoch 34/100\n",
            "111/111 [==============================] - 69s 625ms/step - loss: 0.4683 - acc: 0.8343 - val_loss: 0.8731 - val_acc: 0.7538\n",
            "Epoch 35/100\n",
            "111/111 [==============================] - 69s 626ms/step - loss: 0.4652 - acc: 0.8278 - val_loss: 0.8991 - val_acc: 0.7207\n",
            "Epoch 36/100\n",
            "111/111 [==============================] - 70s 627ms/step - loss: 0.4573 - acc: 0.8346 - val_loss: 0.8851 - val_acc: 0.7372\n",
            "Epoch 37/100\n",
            "111/111 [==============================] - 69s 623ms/step - loss: 0.4368 - acc: 0.8371 - val_loss: 0.9218 - val_acc: 0.7252\n",
            "Epoch 38/100\n",
            "111/111 [==============================] - 71s 641ms/step - loss: 0.4294 - acc: 0.8447 - val_loss: 0.7885 - val_acc: 0.7538\n",
            "Epoch 39/100\n",
            "111/111 [==============================] - 69s 624ms/step - loss: 0.4350 - acc: 0.8379 - val_loss: 0.8126 - val_acc: 0.7402\n",
            "Epoch 40/100\n",
            "111/111 [==============================] - 70s 634ms/step - loss: 0.4255 - acc: 0.8379 - val_loss: 1.0061 - val_acc: 0.6892\n",
            "Epoch 41/100\n",
            "111/111 [==============================] - 71s 637ms/step - loss: 0.4299 - acc: 0.8455 - val_loss: 1.0596 - val_acc: 0.7312\n",
            "Epoch 42/100\n",
            "111/111 [==============================] - 70s 634ms/step - loss: 0.4325 - acc: 0.8472 - val_loss: 1.1086 - val_acc: 0.7282\n",
            "Epoch 43/100\n",
            "111/111 [==============================] - 71s 637ms/step - loss: 0.4213 - acc: 0.8495 - val_loss: 0.9394 - val_acc: 0.6892\n",
            "Epoch 44/100\n",
            "111/111 [==============================] - 72s 646ms/step - loss: 0.4124 - acc: 0.8560 - val_loss: 1.0889 - val_acc: 0.7132\n",
            "Epoch 45/100\n",
            "111/111 [==============================] - 71s 643ms/step - loss: 0.4033 - acc: 0.8560 - val_loss: 1.0523 - val_acc: 0.7282\n",
            "Epoch 46/100\n",
            "111/111 [==============================] - 71s 639ms/step - loss: 0.3815 - acc: 0.8622 - val_loss: 1.2867 - val_acc: 0.7357\n",
            "Epoch 47/100\n",
            "111/111 [==============================] - 71s 637ms/step - loss: 0.4074 - acc: 0.8554 - val_loss: 0.9311 - val_acc: 0.7117\n",
            "Epoch 48/100\n",
            "111/111 [==============================] - 71s 637ms/step - loss: 0.3924 - acc: 0.8610 - val_loss: 1.5701 - val_acc: 0.7057\n",
            "Epoch 49/100\n",
            "111/111 [==============================] - 71s 636ms/step - loss: 0.3847 - acc: 0.8627 - val_loss: 1.1196 - val_acc: 0.7372\n",
            "Epoch 50/100\n",
            "111/111 [==============================] - 70s 634ms/step - loss: 0.3989 - acc: 0.8639 - val_loss: 0.9857 - val_acc: 0.7402\n",
            "Epoch 51/100\n",
            "111/111 [==============================] - 71s 638ms/step - loss: 0.4015 - acc: 0.8608 - val_loss: 1.2033 - val_acc: 0.7462\n",
            "Epoch 52/100\n",
            "111/111 [==============================] - 71s 643ms/step - loss: 0.3982 - acc: 0.8557 - val_loss: 1.1186 - val_acc: 0.6877\n",
            "Epoch 53/100\n",
            "111/111 [==============================] - 71s 644ms/step - loss: 0.3799 - acc: 0.8695 - val_loss: 1.1559 - val_acc: 0.7102\n",
            "Epoch 54/100\n",
            "111/111 [==============================] - 71s 643ms/step - loss: 0.3872 - acc: 0.8619 - val_loss: 1.2292 - val_acc: 0.7297\n",
            "Epoch 55/100\n",
            "111/111 [==============================] - 71s 641ms/step - loss: 0.3704 - acc: 0.8754 - val_loss: 1.2071 - val_acc: 0.7252\n",
            "Epoch 56/100\n",
            "111/111 [==============================] - 71s 642ms/step - loss: 0.3967 - acc: 0.8689 - val_loss: 1.1290 - val_acc: 0.7297\n",
            "Epoch 57/100\n",
            "111/111 [==============================] - 72s 648ms/step - loss: 0.3918 - acc: 0.8698 - val_loss: 1.0540 - val_acc: 0.7027\n",
            "Epoch 58/100\n",
            "111/111 [==============================] - 71s 644ms/step - loss: 0.3877 - acc: 0.8684 - val_loss: 1.5626 - val_acc: 0.7267\n",
            "Epoch 59/100\n",
            "111/111 [==============================] - 70s 633ms/step - loss: 0.4638 - acc: 0.8622 - val_loss: 1.3834 - val_acc: 0.7462\n",
            "Epoch 60/100\n",
            "111/111 [==============================] - 71s 635ms/step - loss: 0.3647 - acc: 0.8754 - val_loss: 1.3808 - val_acc: 0.7568\n",
            "Epoch 61/100\n",
            "111/111 [==============================] - 72s 646ms/step - loss: 0.3923 - acc: 0.8749 - val_loss: 1.3846 - val_acc: 0.7477\n",
            "Epoch 62/100\n",
            "111/111 [==============================] - 71s 642ms/step - loss: 0.3671 - acc: 0.8737 - val_loss: 1.2839 - val_acc: 0.7327\n",
            "Epoch 63/100\n",
            "111/111 [==============================] - 72s 649ms/step - loss: 0.3707 - acc: 0.8734 - val_loss: 1.0188 - val_acc: 0.7237\n",
            "Epoch 64/100\n",
            "111/111 [==============================] - 72s 650ms/step - loss: 0.3636 - acc: 0.8737 - val_loss: 1.3463 - val_acc: 0.7132\n",
            "Epoch 65/100\n",
            "111/111 [==============================] - 71s 638ms/step - loss: 0.3834 - acc: 0.8751 - val_loss: 1.1836 - val_acc: 0.7462\n",
            "Epoch 66/100\n",
            "111/111 [==============================] - 71s 644ms/step - loss: 0.3580 - acc: 0.8729 - val_loss: 1.3747 - val_acc: 0.7312\n",
            "Epoch 67/100\n",
            "111/111 [==============================] - 72s 647ms/step - loss: 0.3935 - acc: 0.8656 - val_loss: 1.2542 - val_acc: 0.6817\n",
            "Epoch 68/100\n",
            "111/111 [==============================] - 72s 645ms/step - loss: 0.3698 - acc: 0.8706 - val_loss: 1.0903 - val_acc: 0.7102\n",
            "Epoch 69/100\n",
            "111/111 [==============================] - 71s 644ms/step - loss: 0.3958 - acc: 0.8689 - val_loss: 1.2954 - val_acc: 0.7372\n",
            "Epoch 70/100\n",
            "111/111 [==============================] - 72s 647ms/step - loss: 0.3798 - acc: 0.8698 - val_loss: 1.1026 - val_acc: 0.7192\n",
            "Epoch 71/100\n",
            "111/111 [==============================] - 71s 641ms/step - loss: 0.3748 - acc: 0.8687 - val_loss: 1.1267 - val_acc: 0.7553\n",
            "Epoch 72/100\n",
            "111/111 [==============================] - 71s 641ms/step - loss: 0.3749 - acc: 0.8763 - val_loss: 1.8327 - val_acc: 0.7222\n",
            "Epoch 73/100\n",
            "111/111 [==============================] - 71s 639ms/step - loss: 0.3744 - acc: 0.8743 - val_loss: 1.1165 - val_acc: 0.7568\n",
            "Epoch 74/100\n",
            "111/111 [==============================] - 71s 640ms/step - loss: 0.3860 - acc: 0.8596 - val_loss: 1.0774 - val_acc: 0.7523\n",
            "Epoch 75/100\n",
            "111/111 [==============================] - 71s 641ms/step - loss: 0.4015 - acc: 0.8633 - val_loss: 1.2315 - val_acc: 0.7387\n",
            "Epoch 76/100\n",
            "111/111 [==============================] - 71s 637ms/step - loss: 0.4035 - acc: 0.8653 - val_loss: 1.1856 - val_acc: 0.7222\n",
            "Epoch 77/100\n",
            "111/111 [==============================] - 71s 640ms/step - loss: 0.3702 - acc: 0.8743 - val_loss: 1.3945 - val_acc: 0.7012\n",
            "Epoch 78/100\n",
            "111/111 [==============================] - 71s 636ms/step - loss: 0.3676 - acc: 0.8799 - val_loss: 1.2563 - val_acc: 0.7447\n",
            "Epoch 79/100\n",
            "111/111 [==============================] - 71s 642ms/step - loss: 0.3649 - acc: 0.8794 - val_loss: 1.1413 - val_acc: 0.7417\n",
            "Epoch 80/100\n",
            "111/111 [==============================] - 71s 641ms/step - loss: 0.3523 - acc: 0.8808 - val_loss: 1.5887 - val_acc: 0.6517\n",
            "Epoch 81/100\n",
            "111/111 [==============================] - 72s 648ms/step - loss: 0.3945 - acc: 0.8723 - val_loss: 1.0787 - val_acc: 0.7477\n",
            "Epoch 82/100\n",
            "111/111 [==============================] - 72s 649ms/step - loss: 0.4560 - acc: 0.8746 - val_loss: 1.0738 - val_acc: 0.7312\n",
            "Epoch 83/100\n",
            "111/111 [==============================] - 72s 647ms/step - loss: 0.3442 - acc: 0.8853 - val_loss: 1.2377 - val_acc: 0.7327\n",
            "Epoch 84/100\n",
            "111/111 [==============================] - 71s 641ms/step - loss: 0.3559 - acc: 0.8813 - val_loss: 1.1328 - val_acc: 0.7447\n",
            "Epoch 85/100\n",
            "111/111 [==============================] - 71s 639ms/step - loss: 0.3531 - acc: 0.8771 - val_loss: 1.6141 - val_acc: 0.7252\n",
            "Epoch 86/100\n",
            "111/111 [==============================] - 71s 642ms/step - loss: 0.3810 - acc: 0.8712 - val_loss: 2.2605 - val_acc: 0.6757\n",
            "Epoch 87/100\n",
            "111/111 [==============================] - 72s 648ms/step - loss: 0.3954 - acc: 0.8811 - val_loss: 1.3142 - val_acc: 0.7462\n",
            "Epoch 88/100\n",
            "111/111 [==============================] - 72s 648ms/step - loss: 0.3377 - acc: 0.8844 - val_loss: 1.3608 - val_acc: 0.7658\n",
            "Epoch 89/100\n",
            "111/111 [==============================] - 71s 643ms/step - loss: 0.3864 - acc: 0.8740 - val_loss: 1.4887 - val_acc: 0.7252\n",
            "Epoch 90/100\n",
            "111/111 [==============================] - 71s 644ms/step - loss: 0.3690 - acc: 0.8853 - val_loss: 1.6859 - val_acc: 0.7057\n",
            "Epoch 91/100\n",
            "111/111 [==============================] - 71s 638ms/step - loss: 0.3639 - acc: 0.8890 - val_loss: 1.5914 - val_acc: 0.7297\n",
            "Epoch 92/100\n",
            "111/111 [==============================] - 71s 639ms/step - loss: 0.3609 - acc: 0.8811 - val_loss: 1.3909 - val_acc: 0.7282\n",
            "Epoch 93/100\n",
            "111/111 [==============================] - 71s 638ms/step - loss: 0.3537 - acc: 0.8842 - val_loss: 1.4871 - val_acc: 0.7162\n",
            "Epoch 94/100\n",
            "111/111 [==============================] - 71s 640ms/step - loss: 0.3808 - acc: 0.8777 - val_loss: 1.3215 - val_acc: 0.7072\n",
            "Epoch 95/100\n",
            "111/111 [==============================] - 72s 645ms/step - loss: 0.4019 - acc: 0.8706 - val_loss: 1.3068 - val_acc: 0.7162\n",
            "Epoch 96/100\n",
            "111/111 [==============================] - 72s 648ms/step - loss: 0.3478 - acc: 0.8839 - val_loss: 2.0794 - val_acc: 0.7072\n",
            "Epoch 97/100\n",
            "111/111 [==============================] - 72s 646ms/step - loss: 0.4034 - acc: 0.8703 - val_loss: 1.7033 - val_acc: 0.7012\n",
            "Epoch 98/100\n",
            "111/111 [==============================] - 72s 645ms/step - loss: 0.3792 - acc: 0.8819 - val_loss: 1.6739 - val_acc: 0.7177\n",
            "Epoch 99/100\n",
            "111/111 [==============================] - 72s 644ms/step - loss: 0.3783 - acc: 0.8743 - val_loss: 1.2361 - val_acc: 0.7327\n",
            "Epoch 100/100\n",
            "111/111 [==============================] - 72s 645ms/step - loss: 0.3832 - acc: 0.8833 - val_loss: 1.7011 - val_acc: 0.7477\n"
          ]
        }
      ]
    },
    {
      "cell_type": "code",
      "metadata": {
        "colab": {
          "base_uri": "https://localhost:8080/"
        },
        "id": "GoMUwOZN6caT",
        "outputId": "bbda737c-149b-4355-d0f5-67e323ca47d9"
      },
      "source": [
        "model.evaluate(Test_set)"
      ],
      "execution_count": null,
      "outputs": [
        {
          "output_type": "stream",
          "name": "stdout",
          "text": [
            "21/21 [==============================] - 4s 178ms/step - loss: 1.7011 - acc: 0.7477\n"
          ]
        },
        {
          "output_type": "execute_result",
          "data": {
            "text/plain": [
              "[1.7011476755142212, 0.7477477192878723]"
            ]
          },
          "metadata": {},
          "execution_count": 21
        }
      ]
    },
    {
      "cell_type": "markdown",
      "metadata": {
        "id": "qo-kLy9QvkCg"
      },
      "source": [
        ""
      ]
    },
    {
      "cell_type": "code",
      "metadata": {
        "id": "3P4bMA2WUI7i"
      },
      "source": [
        "#Save our model\n",
        "model.save(\"first_one.h5\")"
      ],
      "execution_count": null,
      "outputs": []
    },
    {
      "cell_type": "code",
      "metadata": {
        "colab": {
          "base_uri": "https://localhost:8080/",
          "height": 265
        },
        "id": "-isqKaU_UMfB",
        "outputId": "81b043ee-1051-461f-a6ab-264f420b9844"
      },
      "source": [
        "## Accuracy comparison\n",
        "plt.plot(cnn_network.history['loss'])\n",
        "plt.plot(cnn_network.history['val_loss'])\n",
        "plt.legend(['loss','val_loss'])\n",
        "plt.show()"
      ],
      "execution_count": null,
      "outputs": [
        {
          "output_type": "display_data",
          "data": {
            "image/png": "[encoded data removed]",
            "text/plain": [
              "<Figure size 432x288 with 1 Axes>"
            ]
          },
          "metadata": {
            "needs_background": "light"
          }
        }
      ]
    },
    {
      "cell_type": "code",
      "metadata": {
        "colab": {
          "base_uri": "https://localhost:8080/",
          "height": 265
        },
        "id": "QGAxEpbjUQd_",
        "outputId": "5bef2003-0fd1-4cdb-c427-c95d5289b0e7"
      },
      "source": [
        "plt.plot(cnn_network.history['acc'])\n",
        "plt.plot(cnn_network.history['val_acc'])\n",
        "plt.legend(['acc','val_acc'])\n",
        "plt.show()"
      ],
      "execution_count": null,
      "outputs": [
        {
          "output_type": "display_data",
          "data": {
            "image/png": "[encoded data removed]",
            "text/plain": [
              "<Figure size 432x288 with 1 Axes>"
            ]
          },
          "metadata": {
            "needs_background": "light"
          }
        }
      ]
    }
  ]
}